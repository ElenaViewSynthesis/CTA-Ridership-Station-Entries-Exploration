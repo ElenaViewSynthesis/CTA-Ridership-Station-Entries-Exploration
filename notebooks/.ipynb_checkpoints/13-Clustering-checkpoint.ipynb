{
 "cells": [
  {
   "cell_type": "markdown",
   "metadata": {},
   "source": [
    "# Clustering\n",
    "\n",
    "In this lab, we will take a brief look at clustering, which is an application of unsupervised learning. We will explore the [data from the Federal Communications Commission (FCC)'s Measuring Broadband America (MBA) project](https://www.fcc.gov/oet/mba/raw-data-releases), which measures ``speed'' from different Internet Service Providers (ISPs) across the United States."
   ]
  },
  {
   "cell_type": "code",
   "execution_count": 1,
   "metadata": {},
   "outputs": [],
   "source": [
    "import pandas as pd\n",
    "import matplotlib \n",
    "from matplotlib import pyplot as plt\n",
    "import numpy as np\n",
    "\n",
    "%matplotlib inline\n",
    "from sklearn.cluster import KMeans, MiniBatchKMeans"
   ]
  },
  {
   "cell_type": "markdown",
   "metadata": {},
   "source": [
    "## Loading the Dataset\n",
    "\n",
    "Let's first have a quick look at the data."
   ]
  },
  {
   "cell_type": "code",
   "execution_count": 2,
   "metadata": {},
   "outputs": [
    {
     "data": {
      "text/html": [
       "<div>\n",
       "<style scoped>\n",
       "    .dataframe tbody tr th:only-of-type {\n",
       "        vertical-align: middle;\n",
       "    }\n",
       "\n",
       "    .dataframe tbody tr th {\n",
       "        vertical-align: top;\n",
       "    }\n",
       "\n",
       "    .dataframe thead th {\n",
       "        text-align: right;\n",
       "    }\n",
       "</style>\n",
       "<table border=\"1\" class=\"dataframe\">\n",
       "  <thead>\n",
       "    <tr style=\"text-align: right;\">\n",
       "      <th></th>\n",
       "      <th>unit_id</th>\n",
       "      <th>dtime</th>\n",
       "      <th>target</th>\n",
       "      <th>address</th>\n",
       "      <th>bytes_sec</th>\n",
       "    </tr>\n",
       "  </thead>\n",
       "  <tbody>\n",
       "    <tr>\n",
       "      <th>0</th>\n",
       "      <td>386</td>\n",
       "      <td>2020-03-01 00:35:07</td>\n",
       "      <td>samknows1.nyc2.level3.net</td>\n",
       "      <td>4.71.185.62</td>\n",
       "      <td>18693531</td>\n",
       "    </tr>\n",
       "    <tr>\n",
       "      <th>1</th>\n",
       "      <td>386</td>\n",
       "      <td>2020-03-01 00:36:34</td>\n",
       "      <td>sp2-vm-newyork-us.samknows.com</td>\n",
       "      <td>151.139.31.8</td>\n",
       "      <td>22842816</td>\n",
       "    </tr>\n",
       "    <tr>\n",
       "      <th>2</th>\n",
       "      <td>386</td>\n",
       "      <td>2020-03-01 00:38:37</td>\n",
       "      <td>newyorkfcc.west.verizon.net</td>\n",
       "      <td>206.124.86.197</td>\n",
       "      <td>22037046</td>\n",
       "    </tr>\n",
       "    <tr>\n",
       "      <th>3</th>\n",
       "      <td>386</td>\n",
       "      <td>2020-03-01 01:35:10</td>\n",
       "      <td>samknows1.nyc2.level3.net</td>\n",
       "      <td>4.71.185.62</td>\n",
       "      <td>20522792</td>\n",
       "    </tr>\n",
       "    <tr>\n",
       "      <th>4</th>\n",
       "      <td>386</td>\n",
       "      <td>2020-03-01 01:36:36</td>\n",
       "      <td>sp2-vm-newyork-us.samknows.com</td>\n",
       "      <td>151.139.31.8</td>\n",
       "      <td>22211256</td>\n",
       "    </tr>\n",
       "    <tr>\n",
       "      <th>5</th>\n",
       "      <td>386</td>\n",
       "      <td>2020-03-01 02:36:13</td>\n",
       "      <td>newyorkfcc.west.verizon.net</td>\n",
       "      <td>206.124.86.197</td>\n",
       "      <td>22419987</td>\n",
       "    </tr>\n",
       "    <tr>\n",
       "      <th>6</th>\n",
       "      <td>386</td>\n",
       "      <td>2020-03-01 02:39:52</td>\n",
       "      <td>samknows1.nyc2.level3.net</td>\n",
       "      <td>4.71.185.62</td>\n",
       "      <td>21314905</td>\n",
       "    </tr>\n",
       "    <tr>\n",
       "      <th>7</th>\n",
       "      <td>386</td>\n",
       "      <td>2020-03-01 02:41:14</td>\n",
       "      <td>sp2-vm-newyork-us.samknows.com</td>\n",
       "      <td>151.139.31.8</td>\n",
       "      <td>21628859</td>\n",
       "    </tr>\n",
       "    <tr>\n",
       "      <th>8</th>\n",
       "      <td>386</td>\n",
       "      <td>2020-03-01 03:34:56</td>\n",
       "      <td>samknows1.nyc2.level3.net</td>\n",
       "      <td>4.71.185.62</td>\n",
       "      <td>21955952</td>\n",
       "    </tr>\n",
       "    <tr>\n",
       "      <th>9</th>\n",
       "      <td>386</td>\n",
       "      <td>2020-03-01 03:36:48</td>\n",
       "      <td>sp2-vm-newyork-us.samknows.com</td>\n",
       "      <td>151.139.31.8</td>\n",
       "      <td>22729894</td>\n",
       "    </tr>\n",
       "  </tbody>\n",
       "</table>\n",
       "</div>"
      ],
      "text/plain": [
       "   unit_id                dtime                          target  \\\n",
       "0      386  2020-03-01 00:35:07       samknows1.nyc2.level3.net   \n",
       "1      386  2020-03-01 00:36:34  sp2-vm-newyork-us.samknows.com   \n",
       "2      386  2020-03-01 00:38:37     newyorkfcc.west.verizon.net   \n",
       "3      386  2020-03-01 01:35:10       samknows1.nyc2.level3.net   \n",
       "4      386  2020-03-01 01:36:36  sp2-vm-newyork-us.samknows.com   \n",
       "5      386  2020-03-01 02:36:13     newyorkfcc.west.verizon.net   \n",
       "6      386  2020-03-01 02:39:52       samknows1.nyc2.level3.net   \n",
       "7      386  2020-03-01 02:41:14  sp2-vm-newyork-us.samknows.com   \n",
       "8      386  2020-03-01 03:34:56       samknows1.nyc2.level3.net   \n",
       "9      386  2020-03-01 03:36:48  sp2-vm-newyork-us.samknows.com   \n",
       "\n",
       "          address  bytes_sec  \n",
       "0     4.71.185.62   18693531  \n",
       "1    151.139.31.8   22842816  \n",
       "2  206.124.86.197   22037046  \n",
       "3     4.71.185.62   20522792  \n",
       "4    151.139.31.8   22211256  \n",
       "5  206.124.86.197   22419987  \n",
       "6     4.71.185.62   21314905  \n",
       "7    151.139.31.8   21628859  \n",
       "8     4.71.185.62   21955952  \n",
       "9    151.139.31.8   22729894  "
      ]
     },
     "execution_count": 2,
     "metadata": {},
     "output_type": "execute_result"
    }
   ],
   "source": [
    "df = pd.read_csv('../data/curr_httpgetmt.csv.gz', compression='gzip', error_bad_lines=False)\n",
    "df = df.loc[:,['unit_id','dtime','target','address','bytes_sec']]\n",
    "df.head(10)"
   ]
  },
  {
   "cell_type": "markdown",
   "metadata": {},
   "source": [
    "We can see that there are 5284 unique devices performing measurements in March 2020, and that there were about 3 million unique measurements"
   ]
  },
  {
   "cell_type": "code",
   "execution_count": 3,
   "metadata": {},
   "outputs": [
    {
     "data": {
      "text/plain": [
       "5284"
      ]
     },
     "execution_count": 3,
     "metadata": {},
     "output_type": "execute_result"
    }
   ],
   "source": [
    "df['unit_id'].nunique()"
   ]
  },
  {
   "cell_type": "code",
   "execution_count": 4,
   "metadata": {},
   "outputs": [
    {
     "data": {
      "text/plain": [
       "(3046851, 5)"
      ]
     },
     "execution_count": 4,
     "metadata": {},
     "output_type": "execute_result"
    }
   ],
   "source": [
    "df.shape"
   ]
  },
  {
   "cell_type": "markdown",
   "metadata": {},
   "source": [
    "Let's rank the devices based on their maximum speedtest for the month and drop the devices that had zero throughput measurements."
   ]
  },
  {
   "cell_type": "code",
   "execution_count": 5,
   "metadata": {},
   "outputs": [
    {
     "data": {
      "text/html": [
       "<div>\n",
       "<style scoped>\n",
       "    .dataframe tbody tr th:only-of-type {\n",
       "        vertical-align: middle;\n",
       "    }\n",
       "\n",
       "    .dataframe tbody tr th {\n",
       "        vertical-align: top;\n",
       "    }\n",
       "\n",
       "    .dataframe thead th {\n",
       "        text-align: right;\n",
       "    }\n",
       "</style>\n",
       "<table border=\"1\" class=\"dataframe\">\n",
       "  <thead>\n",
       "    <tr style=\"text-align: right;\">\n",
       "      <th></th>\n",
       "      <th>unit_id</th>\n",
       "      <th>target</th>\n",
       "      <th>bytes_sec</th>\n",
       "      <th>rank</th>\n",
       "    </tr>\n",
       "  </thead>\n",
       "  <tbody>\n",
       "    <tr>\n",
       "      <th>0</th>\n",
       "      <td>10695</td>\n",
       "      <td>sp2-vm-newyork-us.samknows.com</td>\n",
       "      <td>3761.0</td>\n",
       "      <td>0</td>\n",
       "    </tr>\n",
       "    <tr>\n",
       "      <th>1</th>\n",
       "      <td>12719</td>\n",
       "      <td>whplny-1-on.cv.net</td>\n",
       "      <td>34357.0</td>\n",
       "      <td>1</td>\n",
       "    </tr>\n",
       "    <tr>\n",
       "      <th>2</th>\n",
       "      <td>3941957</td>\n",
       "      <td>sp1-vm-dallas-us.samknows.com</td>\n",
       "      <td>60752.0</td>\n",
       "      <td>2</td>\n",
       "    </tr>\n",
       "    <tr>\n",
       "      <th>3</th>\n",
       "      <td>3880565</td>\n",
       "      <td>sp2-vm-newyork-us.samknows.com</td>\n",
       "      <td>62865.0</td>\n",
       "      <td>3</td>\n",
       "    </tr>\n",
       "    <tr>\n",
       "      <th>4</th>\n",
       "      <td>3941945</td>\n",
       "      <td>sp2-vm-newyork-us.samknows.com</td>\n",
       "      <td>64802.0</td>\n",
       "      <td>4</td>\n",
       "    </tr>\n",
       "    <tr>\n",
       "      <th>...</th>\n",
       "      <td>...</td>\n",
       "      <td>...</td>\n",
       "      <td>...</td>\n",
       "      <td>...</td>\n",
       "    </tr>\n",
       "    <tr>\n",
       "      <th>5276</th>\n",
       "      <td>25619237</td>\n",
       "      <td>sp1-vm-seattle-us.samknows.com</td>\n",
       "      <td>117677428.0</td>\n",
       "      <td>5276</td>\n",
       "    </tr>\n",
       "    <tr>\n",
       "      <th>5277</th>\n",
       "      <td>998117</td>\n",
       "      <td>sp2-vm-chicago-us.samknows.com</td>\n",
       "      <td>117680831.0</td>\n",
       "      <td>5277</td>\n",
       "    </tr>\n",
       "    <tr>\n",
       "      <th>5278</th>\n",
       "      <td>3994609</td>\n",
       "      <td>sp2-vm-chicago-us.samknows.com</td>\n",
       "      <td>117682541.0</td>\n",
       "      <td>5278</td>\n",
       "    </tr>\n",
       "    <tr>\n",
       "      <th>5279</th>\n",
       "      <td>23665993</td>\n",
       "      <td>whplny-1-on.cv.net</td>\n",
       "      <td>117683494.0</td>\n",
       "      <td>5279</td>\n",
       "    </tr>\n",
       "    <tr>\n",
       "      <th>5280</th>\n",
       "      <td>1006756</td>\n",
       "      <td>sp1-vm-denver-us.samknows.com</td>\n",
       "      <td>117705368.0</td>\n",
       "      <td>5280</td>\n",
       "    </tr>\n",
       "  </tbody>\n",
       "</table>\n",
       "<p>5281 rows × 4 columns</p>\n",
       "</div>"
      ],
      "text/plain": [
       "       unit_id                          target    bytes_sec  rank\n",
       "0        10695  sp2-vm-newyork-us.samknows.com       3761.0     0\n",
       "1        12719              whplny-1-on.cv.net      34357.0     1\n",
       "2      3941957   sp1-vm-dallas-us.samknows.com      60752.0     2\n",
       "3      3880565  sp2-vm-newyork-us.samknows.com      62865.0     3\n",
       "4      3941945  sp2-vm-newyork-us.samknows.com      64802.0     4\n",
       "...        ...                             ...          ...   ...\n",
       "5276  25619237  sp1-vm-seattle-us.samknows.com  117677428.0  5276\n",
       "5277    998117  sp2-vm-chicago-us.samknows.com  117680831.0  5277\n",
       "5278   3994609  sp2-vm-chicago-us.samknows.com  117682541.0  5278\n",
       "5279  23665993              whplny-1-on.cv.net  117683494.0  5279\n",
       "5280   1006756   sp1-vm-denver-us.samknows.com  117705368.0  5280\n",
       "\n",
       "[5281 rows x 4 columns]"
      ]
     },
     "execution_count": 5,
     "metadata": {},
     "output_type": "execute_result"
    }
   ],
   "source": [
    "max_df = df.groupby(['unit_id']).max()\n",
    "max_df = max_df.sort_values(by=['bytes_sec'])\n",
    "max_df = max_df.replace(0, np.nan).dropna().reset_index()\n",
    "max_df.drop(columns=['dtime','address'],inplace=True)\n",
    "max_df.reset_index()\n",
    "max_df['rank'] = max_df.index\n",
    "max_df"
   ]
  },
  {
   "cell_type": "markdown",
   "metadata": {},
   "source": [
    "We can look at the devices, ranked by their maximum speed measurement for the month."
   ]
  },
  {
   "cell_type": "code",
   "execution_count": 6,
   "metadata": {},
   "outputs": [
    {
     "data": {
      "text/plain": [
       "[<matplotlib.lines.Line2D at 0x7fdb2a586ac8>]"
      ]
     },
     "execution_count": 6,
     "metadata": {},
     "output_type": "execute_result"
    },
    {
     "data": {
      "image/png": "[encoded data removed]",
      "text/plain": [
       "<Figure size 432x288 with 1 Axes>"
      ]
     },
     "metadata": {
      "needs_background": "light"
     },
     "output_type": "display_data"
    }
   ],
   "source": [
    "plt.plot(max_df.index,(max_df['bytes_sec']*8)/(1024*1024),'*')"
   ]
  },
  {
   "cell_type": "markdown",
   "metadata": {},
   "source": [
    "## K Means Clustering"
   ]
  },
  {
   "cell_type": "markdown",
   "metadata": {},
   "source": [
    "Let's merge the rank of the units back into the original dataframe and then cluster based on the max speed test for the month."
   ]
  },
  {
   "cell_type": "code",
   "execution_count": 7,
   "metadata": {},
   "outputs": [],
   "source": [
    "s = pd.merge(df,max_df, on=['unit_id']).sort_values(by='rank').reset_index()"
   ]
  },
  {
   "cell_type": "code",
   "execution_count": 8,
   "metadata": {},
   "outputs": [
    {
     "data": {
      "text/plain": [
       "KMeans(n_clusters=3)"
      ]
     },
     "execution_count": 8,
     "metadata": {},
     "output_type": "execute_result"
    }
   ],
   "source": [
    "cluster = KMeans(n_clusters=3)\n",
    "cluster.fit(s['bytes_sec_y'].values.reshape(-1,1))"
   ]
  },
  {
   "cell_type": "markdown",
   "metadata": {},
   "source": [
    "Finally, we can visualize all measurements for the devices, with the points colored according to the group assigned to each device based on its maximum speed test."
   ]
  },
  {
   "cell_type": "code",
   "execution_count": 9,
   "metadata": {},
   "outputs": [
    {
     "data": {
      "text/plain": [
       "<matplotlib.collections.PathCollection at 0x7fdb2a07a550>"
      ]
     },
     "execution_count": 9,
     "metadata": {},
     "output_type": "execute_result"
    },
    {
     "data": {
      "image/png": "[encoded data removed]",
      "text/plain": [
       "<Figure size 432x288 with 1 Axes>"
      ]
     },
     "metadata": {
      "needs_background": "light"
     },
     "output_type": "display_data"
    }
   ],
   "source": [
    "import matplotlib.cm as cm\n",
    "\n",
    "colormap = cm.rainbow(np.linspace(0, 1, len(cluster.cluster_centers_)))\n",
    "plt.scatter(s['rank']/len(max_df),(s['bytes_sec_x']*8)/(1024*1024),c=colormap[cluster.labels_])"
   ]
  },
  {
   "cell_type": "code",
   "execution_count": null,
   "metadata": {},
   "outputs": [],
   "source": []
  }
 ],
 "metadata": {
  "kernelspec": {
   "display_name": "Python 3",
   "language": "python",
   "name": "python3"
  },
  "language_info": {
   "codemirror_mode": {
    "name": "ipython",
    "version": 3
   },
   "file_extension": ".py",
   "mimetype": "text/x-python",
   "name": "python",
   "nbconvert_exporter": "python",
   "pygments_lexer": "ipython3",
   "version": "3.6.9"
  }
 },
 "nbformat": 4,
 "nbformat_minor": 4
}
